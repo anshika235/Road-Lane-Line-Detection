{
 "cells": [
  {
   "cell_type": "markdown",
   "metadata": {},
   "source": [
    "<h1>IBM Mini Project</h1>\n",
    "    <h1>Road Lane Line Detection</h1>"
   ]
  },
  {
   "cell_type": "markdown",
   "metadata": {},
   "source": [
    "<h2>1) Importing necessary libraries</h2> "
   ]
  },
  {
   "cell_type": "code",
   "execution_count": 1,
   "metadata": {},
   "outputs": [],
   "source": [
    "import cv2 as cv\n",
    "import numpy as np"
   ]
  },
  {
   "cell_type": "code",
   "execution_count": 2,
   "metadata": {},
   "outputs": [],
   "source": [
    "#cv.__version__"
   ]
  },
  {
   "cell_type": "markdown",
   "metadata": {},
   "source": [
    "<h2>2) Processing the video</h2>"
   ]
  },
  {
   "cell_type": "code",
   "execution_count": 3,
   "metadata": {},
   "outputs": [],
   "source": [
    "# The input video has been read in as an object called VideoCapture\n",
    "input_data = cv.VideoCapture(\"input.mp4\")\n",
    "while (input_data.isOpened()):\n",
    "    # ret returns a boolean value from getting the frame and frame is taking the current frame being prossesed\n",
    "    ret, frame = input_data.read()\n",
    "    # Frames are processed in intervals of 10ms.'q' key is used to get out of the while loop\n",
    "    cv.imshow('frame',frame)\n",
    "    if cv.waitKey(10) & 0xFF == ord('q'):\n",
    "        break\n",
    "\n",
    "# The following frees up resources and closes all windows\n",
    "input_data.release()\n",
    "cv.destroyAllWindows()"
   ]
  },
  {
   "cell_type": "markdown",
   "metadata": {},
   "source": [
    "<h2>3) Applying Canny Edge Detection </h2>"
   ]
  },
  {
   "cell_type": "code",
   "execution_count": 4,
   "metadata": {},
   "outputs": [],
   "source": [
    "def do_canny(frame):\n",
    "    # Converting the frame to grayscale as we only need to hilight the channel in edge detection \n",
    "    gray_scl = cv.cvtColor(frame, cv.COLOR_RGB2GRAY)\n",
    "    #5x5 gaussian blur is applied with 0 to frame deviation\n",
    "    blur = cv.GaussianBlur(gray_scl, (5, 5), 0)\n",
    "    # Applying Canny edge detector with min val 50 and maxval 150\n",
    "    canny = cv.Canny(blur, 50, 150)\n",
    "    return canny\n",
    "\n",
    "input_video = cv.VideoCapture(\"input.mp4\")\n",
    "while (input_video.isOpened()):\n",
    "    ret, frame = input_video.read()\n",
    "\n",
    "    canny = do_canny(frame)\n",
    "    cv.imshow('canny',canny)\n",
    "    if cv.waitKey(10) & 0xFF == ord('q'):\n",
    "        break\n",
    "\n",
    "input_video.release()\n",
    "cv.destroyAllWindows()"
   ]
  },
  {
   "cell_type": "markdown",
   "metadata": {},
   "source": [
    "<h2>4) Segmenting line area and masking other objects</h2>"
   ]
  },
  {
   "cell_type": "code",
   "execution_count": 5,
   "metadata": {},
   "outputs": [],
   "source": [
    "def do_segment(frame):\n",
    "    height = frame.shape[0]\n",
    "    polygons = np.array([\n",
    "                            [(0, height), (800, height), (380, 290)]\n",
    "                        ])\n",
    "    masking = np.zeros_like(frame)\n",
    "    # the mask is given the value 1 and the other areas given 0\n",
    "    cv.fillPoly(masking, polygons, 255)\n",
    "    # bitwise and is implemented between mask and frame which retains the triangular area of frame\n",
    "    segment = cv.bitwise_and(frame, masking)\n",
    "    return segment\n",
    "input_video = cv.VideoCapture(\"input.mp4\")\n",
    "while (input_video.isOpened()):\n",
    "    ret, frame = input_video.read()\n",
    "    seg = do_segment(frame)\n",
    "    cv.imshow('segmenting',seg)\n",
    "    if cv.waitKey(10) & 0xFF == ord('q'):\n",
    "        break\n",
    "input_video.release()\n",
    "cv.destroyAllWindows()"
   ]
  },
  {
   "cell_type": "markdown",
   "metadata": {},
   "source": [
    "<h2>5) Calculating lines</h2>"
   ]
  },
  {
   "cell_type": "code",
   "execution_count": 6,
   "metadata": {},
   "outputs": [],
   "source": [
    "def calculate_lines(frame, lines):\n",
    "    # Empty arrays store coordinates of both side of line\n",
    "    left = []\n",
    "    right = []\n",
    "    for line in lines:\n",
    "        #Changing line from 2D array to 1D array\n",
    "        x1, y1, x2, y2 = line.reshape(4)\n",
    "        #Fits a linear polynomial to the x and y coordinates and returns a vector of coefficients which describe the slope and y-intercept\n",
    "        parameters = np.polyfit((x1, x2), (y1, y2), 1)\n",
    "        slope = parameters[0]\n",
    "        y_intercept = parameters[1]\n",
    "        # If slope is negative, the line is to the left of the lane, and otherwise, the line is to the right of the lane\n",
    "        if slope < 0:\n",
    "            left.append((slope, y_intercept))\n",
    "        else:\n",
    "            right.append((slope, y_intercept))\n",
    "    # Averages out all the values for left and right into a single slope and y-intercept value for each line\n",
    "    left_avg = np.average(left, axis = 0)\n",
    "    right_avg = np.average(right, axis = 0)\n",
    "    # Calculates the x1, y1, x2, y2 coordinates for the left and right lines\n",
    "    left_line = calculate_coordinates(frame, left_avg)\n",
    "    right_line = calculate_coordinates(frame, right_avg)\n",
    "    return np.array([left_line, right_line])"
   ]
  },
  {
   "cell_type": "markdown",
   "metadata": {},
   "source": [
    "<h2>6) Calculating Coordinates</h2>"
   ]
  },
  {
   "cell_type": "code",
   "execution_count": 7,
   "metadata": {},
   "outputs": [],
   "source": [
    "def calculate_coordinates(frame, parameters):\n",
    "    slope, intercept = parameters\n",
    "    # Sets initial y-coordinate as height from top down (bottom of the frame)\n",
    "    y1 = frame.shape[0]\n",
    "    # Sets final y-coordinate as 150 above the bottom of the frame\n",
    "    y2 = int(y1 - 150)\n",
    "    # Sets initial x-coordinate as (y1 - b) / m since y1 = mx1 + b\n",
    "    x1 = int((y1 - intercept) / slope)\n",
    "    # Sets final x-coordinate as (y2 - b) / m since y2 = mx2 + b\n",
    "    x2 = int((y2 - intercept) / slope)\n",
    "    return np.array([x1, y1, x2, y2])"
   ]
  },
  {
   "cell_type": "markdown",
   "metadata": {},
   "source": [
    "<h2>7) For Visualizing the lines </h2>"
   ]
  },
  {
   "cell_type": "code",
   "execution_count": 8,
   "metadata": {},
   "outputs": [],
   "source": [
    "def visualize_lines(frame, lines):\n",
    "    # Creates an image filled with zero intensities with the same dimensions as the frame\n",
    "    lines_visualize = np.zeros_like(frame)\n",
    "    # Checks if any lines are detected\n",
    "    if lines is not None:\n",
    "        for x1, y1, x2, y2 in lines:\n",
    "            # Draws lines between two coordinates with green color and 5 thickness\n",
    "            cv.line(lines_visualize, (x1, y1), (x2, y2), (0, 255, 0), 5)\n",
    "    return lines_visualize"
   ]
  },
  {
   "cell_type": "markdown",
   "metadata": {},
   "source": [
    "<h2> 8) Output with lines being detected </h2> "
   ]
  },
  {
   "cell_type": "code",
   "execution_count": 10,
   "metadata": {},
   "outputs": [],
   "source": [
    "#The lines have been detected and looks like this\n",
    "input_video = cv.VideoCapture(\"input.mp4\")\n",
    "while (input_video.isOpened()):\n",
    "    ret, frame = input_video.read()\n",
    "    segment = do_segment(canny)\n",
    "    hough = cv.HoughLinesP(segment, 2, np.pi / 180, 100, np.array([]), minLineLength = 100, maxLineGap = 50)\n",
    "    #Multiple detetcted lines are converted into a single line by hough transformation at both the corners of the lane\n",
    "    lines = calculate_lines(frame, hough)\n",
    "    # Visualising the lines\n",
    "    lines_visualize = visualize_lines(frame, lines)\n",
    "    cv.imshow(\"hough\", lines_visualize)\n",
    "    if cv.waitKey(10) & 0xFF == ord('q'):\n",
    "        break\n",
    "input_video.release()\n",
    "cv.destroyAllWindows()"
   ]
  },
  {
   "cell_type": "markdown",
   "metadata": {},
   "source": [
    "<h2> 10) Detecting the Vehicle </h2>"
   ]
  },
  {
   "cell_type": "code",
   "execution_count": 11,
   "metadata": {
    "scrolled": true
   },
   "outputs": [],
   "source": [
    "input_video = cv.VideoCapture('input.mp4')\n",
    "car = cv.CascadeClassifier('cars.xml') \n",
    "while True: \n",
    "    ret, frames = input_video.read()  \n",
    "    #convert to gray scale of each frames \n",
    "    gray = cv.cvtColor(frames, cv.COLOR_BGR2GRAY) \n",
    "    # Detects cars of different sizes in the input image \n",
    "    cars = car.detectMultiScale(gray, 1.1, 1) \n",
    "    # To draw a rectangle in each cars \n",
    "    for (x,y,w,h) in cars: \n",
    "        cv.rectangle(frames,(x,y),(x+w,y+h),(0,0,255),2)  \n",
    "    cv.imshow('video', frames) \n",
    "    if cv.waitKey(10) & 0xFF == ord('q'):\n",
    "        break\n",
    "cv.destroyAllWindows() "
   ]
  },
  {
   "cell_type": "markdown",
   "metadata": {},
   "source": [
    "<h2>8) Visualizing the Final output</h2>"
   ]
  },
  {
   "cell_type": "code",
   "execution_count": 12,
   "metadata": {},
   "outputs": [],
   "source": [
    "#the video with lines being detected has been implemented successfully\n",
    "input_video = cv.VideoCapture(\"input.mp4\")\n",
    "car = cv.CascadeClassifier('cars.xml') \n",
    "while (input_video.isOpened()):\n",
    "    ret, frame = input_video.read()\n",
    "    canny = do_canny(frame)\n",
    "   # cv.imshow(\"canny\", canny)\n",
    "    segment = do_segment(canny)\n",
    "    hough = cv.HoughLinesP(segment, 2, np.pi / 180, 100, np.array([]), minLineLength = 100, maxLineGap = 50)\n",
    "    # Averaging multiple detected lines from hough into one line for left border of lane and one line for right border of lane\n",
    "    lines = calculate_lines(frame, hough)\n",
    "    # Visualizing the lines\n",
    "    lines_visualize = visualize_lines(frame, lines)\n",
    "   # cv.imshow(\"hough\", lines_visualize)\n",
    "    # Overlaying lines on frame by taking their weighted sums and adding an arbitrary scalar value of 1 as the gamma argument\n",
    "    ret, frames = input_video.read()  \n",
    "    gray = cv.cvtColor(frames, cv.COLOR_BGR2GRAY) \n",
    "    cars = car.detectMultiScale(gray, 1.1, 1) \n",
    "    for (x,y,w,h) in cars: \n",
    "        cv.rectangle(frames,(x,y),(x+w,y+h),(0,0,255),2)  \n",
    "    output = cv.addWeighted(frames, 0.9, lines_visualize, 1, 1)\n",
    "    cv.imshow('output', output)\n",
    "    if cv.waitKey(10) & 0xFF == ord('q'):\n",
    "        break\n",
    "input_video.release()\n",
    "cv.destroyAllWindows()"
   ]
  },
  {
   "cell_type": "code",
   "execution_count": null,
   "metadata": {},
   "outputs": [],
   "source": []
  },
  {
   "cell_type": "code",
   "execution_count": null,
   "metadata": {},
   "outputs": [],
   "source": []
  }
 ],
 "metadata": {
  "kernelspec": {
   "display_name": "Python 3",
   "language": "python",
   "name": "python3"
  },
  "language_info": {
   "codemirror_mode": {
    "name": "ipython",
    "version": 3
   },
   "file_extension": ".py",
   "mimetype": "text/x-python",
   "name": "python",
   "nbconvert_exporter": "python",
   "pygments_lexer": "ipython3",
   "version": "3.7.6"
  }
 },
 "nbformat": 4,
 "nbformat_minor": 4
}
